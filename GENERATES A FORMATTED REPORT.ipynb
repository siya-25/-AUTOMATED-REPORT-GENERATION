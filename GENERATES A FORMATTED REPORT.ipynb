import pandas as pd
import matplotlib.pyplot as plt
from reportlab.lib.pagesizes import letter
from reportlab.pdfgen import canvas
from reportlab.lib.utils import ImageReader

def analyze_data(file_path):
    df = pd.read_csv("diabetes.csv")  # Read CSV file
    summary_stats = df.describe()
    
    # Handle missing values
    df.fillna(0, inplace=True)

    # Histogram for Glucose
    plt.figure(figsize=(6, 4))
    df['Glucose'].hist(bins=20, color='blue', edgecolor='black')
    plt.xlabel('Blood Glucose Level')
    plt.ylabel('Frequency')
    plt.title('Distribution of Blood Glucose Levels')
    plt.grid(False)
    plt.savefig('glucose_distribution.png')
    plt.close()
    
    # Histogram for BMI
    plt.figure(figsize=(6, 4))
    df['BMI'].hist(bins=20, color='green', edgecolor='black')
    plt.xlabel('BMI')
    plt.ylabel('Frequency')
    plt.title('Distribution of BMI')
    plt.grid(False)
    plt.savefig('bmi_distribution.png')
    plt.close()
    
    # Correlation heatmap
    plt.figure(figsize=(6, 4))
    correlation_matrix = df.corr().fillna(0)  # Fill NaN values
    plt.imshow(correlation_matrix, cmap='coolwarm', aspect='auto')
    plt.colorbar()
    plt.title('Feature Correlation Heatmap', pad=20)
    plt.xticks(range(len(correlation_matrix.columns)), correlation_matrix.columns, rotation=90)
    plt.yticks(range(len(correlation_matrix.columns)), correlation_matrix.columns)
    plt.savefig('correlation_heatmap.png')
    plt.close()
    
    return summary_stats

def generate_pdf_report(summary_stats, output_pdf):
    c = canvas.Canvas(output_pdf, pagesize=letter)
    width, height = letter
    
    c.setFont("Helvetica-Bold", 16)
    c.drawString(180, height - 50, "Diabetes Data Analysis Report")
    
    c.setFont("Helvetica", 12)
    y_position = height - 100
    c.drawString(50, y_position, "Summary Statistics:")
    y_position -= 20
    
    for column in summary_stats.columns:
        c.drawString(50, y_position, f"{column}:")
        y_position -= 20
        for stat, value in summary_stats[column].items():
            c.drawString(70, y_position, f"{stat}: {value:.2f}")
            y_position -= 20
        y_position -= 10
    
    # Add histogram images to PDF
    c.drawImage(ImageReader("glucose_distribution.png"), 100, 450, width=300, height=200)
    c.drawImage(ImageReader("bmi_distribution.png"), 100, 250, width=300, height=200)
    c.drawImage(ImageReader("correlation_heatmap.png"), 100, 50, width=300, height=200)
    c.save()

def main():
    file_path = "diabetes.csv"  # Updated to CSV
    output_pdf = "diabetes_report.pdf"
    
    print("Reading data and performing analysis...")
    summary_stats = analyze_data(file_path)
    print("Generating PDF report...")
    generate_pdf_report(summary_stats, output_pdf)
    print(f"Task Completed! PDF report generated: {output_pdf}")

if __name__ == "__main__":
    main()

